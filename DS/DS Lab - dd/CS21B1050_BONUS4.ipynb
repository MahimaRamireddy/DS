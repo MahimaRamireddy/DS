{
 "cells": [
  {
   "cell_type": "code",
   "execution_count": 3,
   "id": "53223123-867e-4487-ae56-4664f543895c",
   "metadata": {},
   "outputs": [
    {
     "name": "stdin",
     "output_type": "stream",
     "text": [
      "Enter the number of values in List1:  3\n",
      "Enter the number of values in List2:  3\n"
     ]
    },
    {
     "name": "stdout",
     "output_type": "stream",
     "text": [
      "Creating the lists.....\n",
      "\n"
     ]
    },
    {
     "name": "stdin",
     "output_type": "stream",
     "text": [
      "Enter the key of 1 element :  hello\n",
      "Enter the key of 2 element :  hi\n",
      "Enter the key of 3 element :  bye\n"
     ]
    },
    {
     "name": "stdout",
     "output_type": "stream",
     "text": [
      "The key list is ['hello', 'hi', 'bye']\n",
      "\n"
     ]
    },
    {
     "name": "stdin",
     "output_type": "stream",
     "text": [
      "Enter the value of 1 element:  1\n",
      "Enter the value of 2 element:  2\n",
      "Enter the value of 3 element:  3\n"
     ]
    },
    {
     "name": "stdout",
     "output_type": "stream",
     "text": [
      "The value list is ['1', '2', '3']\n",
      "\n",
      "Resultant dictionary is : {'hello': '1', 'hi': '2', 'bye': '3'}\n"
     ]
    },
    {
     "name": "stdin",
     "output_type": "stream",
     "text": [
      "Enter the key to delete:  hi\n"
     ]
    },
    {
     "name": "stdout",
     "output_type": "stream",
     "text": [
      "{'hello': '1', 'bye': '3'}\n",
      "The key set is {'hello', 'bye'}\n",
      "the value set is {'3', '1'}\n"
     ]
    }
   ],
   "source": [
    "\n",
    "'''\n",
    "Question - 1\n",
    "Create two lists of the same size from the user input.\n",
    "create a dictionary in such a way that the first list contains all the keys of the dictionary in order and the second list contains all the values of the dictionary in order.  The dictionary has to be created using a loop\n",
    "Also, delete an item whose key is taken from the user, and after deletion, extract the keys and values of the dictionary into two separate sets, and print them.\n",
    "Example: If the input lists are ['q', 'w', 'e', 'r', 't', 'y'] and ['1', '2', '3', '4', '5', '6'], then the dictionary is {'q': '1', 'w': '2', 'e': '3', 'r': '4', 't': '5', 'y': '6'}.  Further, after deletion of item with key 'e', the sets printed will be {'q', 'w', 'r', 't', 'y'} and {'1', '2', '4', '5', '6'}\n",
    "'''\n",
    "\n",
    "keys = int(input(\"Enter the number of values in List1: \"))\n",
    "values = int(input(\"Enter the number of values in List2: \"))\n",
    "\n",
    "if (keys != values):\n",
    "    print(\"The lists are not of same size, hence they can't be created.\\n\")\n",
    "else:\n",
    "    print(\"Creating the lists.....\\n\")\n",
    "    key = []\n",
    "    for i in range(0,keys):\n",
    "        ele = input(f\"Enter the key of {i+1} element : \")\n",
    "        key.append(ele)\n",
    "    print(f\"The key list is {key}\\n\")\n",
    "    value = []\n",
    "    for i in range(0,values):\n",
    "        ele = input(f\"Enter the value of {i+1} element: \")\n",
    "        value.append(ele)\n",
    "    print(f\"The value list is {value}\\n\")\n",
    "    dictionary = {} # converting lists to dictionary\n",
    "    for i in range(keys):\n",
    "        dictionary[key[i]] = value[i]\n",
    "        \n",
    "\n",
    "# Printing resultant dictionary\n",
    "print(f\"Resultant dictionary is : {dictionary}\" )\n",
    "\n",
    "#Deletion of key value\n",
    "chosenkey = input(\"Enter the key to delete: \")\n",
    "del dictionary[chosenkey]\n",
    "\n",
    "print(dictionary)\n",
    "\n",
    "keyset = set(dictionary.keys())\n",
    "valueset = set(dictionary.values())\n",
    "\n",
    "print(f\"The key set is {keyset}\")\n",
    "print(f\"the value set is {valueset}\")"
   ]
  },
  {
   "cell_type": "code",
   "execution_count": null,
   "id": "729a368e-5eef-46d6-834e-764a81e9ef42",
   "metadata": {},
   "outputs": [],
   "source": [
    "'''\n",
    "Question 2\n",
    "Create two lists from the user input and create a merged list in such a way that the merged list contains\n",
    "elements from alternate lists in alternate index position with the first element from the first list.  \n",
    "If one of the lists is larger than the other, then the merged list should be appended with the remaining elements of the larger \n",
    "list in reverse order.  Note that if the first list is of size L1 and the second list is of size L2, then the merged list\n",
    "should be of size L1+L2 and should contain all the elements of the two lists.  Also, convert the two lists to sets and perform \n",
    "the set difference of the smaller-sized set from the bigger-sized one, provided the lists are of different sizes.\n",
    "Example: If the first list is [1,2,3,4,5,6,7,8,9,10] and the second one is ['a','b','c','d','e'],  then the merged list should be [1, 'a', 2, 'b', 3, 'c', 4, 'd', 5, 'e', 10, 9, 8, 7, 6] and the set difference will output {1,2,3,4,5,6,7,8,9,10} \n",
    "Note: You should use loops and index checks.\n",
    "'''\n",
    "list1 = input(\"Enter the first list (comma-separated): \").split(',')\n",
    "list2 = input(\"Enter the second list (comma-separated): \").split(',')\n",
    "\n",
    "merged_list = []\n",
    "\n",
    "min_length = min(len(list1), len(list2))\n",
    "\n",
    "for i in range(min_length):\n",
    "    merged_list.append(list1[i])\n",
    "    merged_list.append(list2[i])\n",
    "\n",
    "remaining_list = list1[min_length:] + list2[min_length:]\n",
    "merged_list.extend(remaining_list[::-1])\n",
    "\n",
    "print(\"Merged list:\", merged_list)\n",
    "\n",
    "set1 = set(list1)\n",
    "set2 = set(list2)\n",
    "\n",
    "if len(set1) != len(set2):\n",
    "    if len(set1) < len(set2):\n",
    "        diff_set = set2 - set1\n",
    "    else:\n",
    "        diff_set = set1 - set2\n",
    "    print(\"Set Difference:\", diff_set)"
   ]
  },
  {
   "cell_type": "code",
   "execution_count": null,
   "id": "315918b0-c264-48c9-8af8-06bf44733e0b",
   "metadata": {},
   "outputs": [],
   "source": []
  }
 ],
 "metadata": {
  "kernelspec": {
   "display_name": "Python 3 (ipykernel)",
   "language": "python",
   "name": "python3"
  },
  "language_info": {
   "codemirror_mode": {
    "name": "ipython",
    "version": 3
   },
   "file_extension": ".py",
   "mimetype": "text/x-python",
   "name": "python",
   "nbconvert_exporter": "python",
   "pygments_lexer": "ipython3",
   "version": "3.8.10"
  }
 },
 "nbformat": 4,
 "nbformat_minor": 5
}
