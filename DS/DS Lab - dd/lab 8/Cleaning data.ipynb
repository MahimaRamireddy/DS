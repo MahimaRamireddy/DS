{
 "cells": [
  {
   "cell_type": "code",
   "execution_count": 3,
   "id": "f85e1081-8164-4460-9322-ea8c7cdce8be",
   "metadata": {},
   "outputs": [
    {
     "name": "stdout",
     "output_type": "stream",
     "text": [
      "Data cleaning completed. Cleaned data is on: cdiabetes.csv\n"
     ]
    }
   ],
   "source": [
    "import pandas as pd\n",
    "\n",
    "# Load the CSV file into a DataFrame\n",
    "file_path = 'diabetes.csv'\n",
    "df = pd.read_csv(file_path)\n",
    "\n",
    "# Replace 0 values with the mean of the specific column\n",
    "df.replace({'Glucose': {0: df['Glucose'].mean()}}, inplace=True)\n",
    "df.replace({'BloodPressure': {0: df['BloodPressure'].mean()}}, inplace=True)\n",
    "df.replace({'SkinThickness': {0: df['SkinThickness'].median()}}, inplace=True)\n",
    "df.replace({'Insulin': {0: df['Insulin'].median()}}, inplace=True)\n",
    "df.replace({'BMI': {0: df['BMI'].mean()}}, inplace=True)\n",
    "\n",
    "\n",
    "# Remove duplicates\n",
    "df.drop_duplicates(inplace=True)\n",
    "\n",
    "# Save the cleaned data to a new CSV file\n",
    "cleaned_file_path = 'cdiabetes.csv'\n",
    "df.to_csv(cleaned_file_path, index=False)\n",
    "\n",
    "print('Data cleaning completed. Cleaned data is on:', cleaned_file_path)"
   ]
  },
  {
   "cell_type": "code",
   "execution_count": null,
   "id": "26382aa1-0e67-432a-9e9d-daa8c736c3e9",
   "metadata": {},
   "outputs": [],
   "source": []
  }
 ],
 "metadata": {
  "kernelspec": {
   "display_name": "Python 3 (ipykernel)",
   "language": "python",
   "name": "python3"
  },
  "language_info": {
   "codemirror_mode": {
    "name": "ipython",
    "version": 3
   },
   "file_extension": ".py",
   "mimetype": "text/x-python",
   "name": "python",
   "nbconvert_exporter": "python",
   "pygments_lexer": "ipython3",
   "version": "3.8.10"
  }
 },
 "nbformat": 4,
 "nbformat_minor": 5
}
