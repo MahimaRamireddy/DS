{
 "cells": [
  {
   "cell_type": "code",
   "execution_count": 13,
   "id": "6195ac73-49f3-4804-a4a3-44a86bf5a112",
   "metadata": {},
   "outputs": [
    {
     "name": "stdout",
     "output_type": "stream",
     "text": [
      "Percentage accuracy of the KNN algorithm: 71.43 %\n"
     ]
    }
   ],
   "source": [
    "import pandas as pd\n",
    "import sklearn\n",
    "from sklearn.model_selection import train_test_split\n",
    "from sklearn.neighbors import KNeighborsClassifier\n",
    "from sklearn.metrics import accuracy_score\n",
    "from sklearn.preprocessing import MinMaxScaler\n",
    "\n",
    "\n",
    "csv_file_path = 'cdiabetes.csv'\n",
    "data = pd.read_csv(csv_file_path)\n",
    "\n",
    "data['Glucose'].replace(0, data['Glucose'].mean(),inplace=True)\n",
    "data['BloodPressure'].replace(0, data['BloodPressure'].mean(),inplace=True)\n",
    "data['SkinThickness'].replace(0, data['SkinThickness'].median(),inplace=True)\n",
    "data['Insulin'].replace(0, data['Insulin'].median(),inplace=True)\n",
    "data['BMI'].replace(0, data['BMI'].mean(),inplace=True)\n",
    "\n",
    "data.drop_duplicates(inplace=True)\n",
    "\n",
    "feature_columns = ['Pregnancies','Glucose', 'BloodPressure', 'SkinThickness','Insulin','BMI','Age']\n",
    "X = data[feature_columns]\n",
    "y = data['Outcome']\n",
    "\n",
    "min_max_scaler = MinMaxScaler()\n",
    "X= min_max_scaler.fit_transform(X)\n",
    "\n",
    "X_train, X_test, y_train, y_test = train_test_split(X, y, test_size=0.2, random_state=42)\n",
    "\n",
    "knn = KNeighborsClassifier(n_neighbors=5)\n",
    "knn.fit(X_train, y_train)\n",
    "\n",
    "# Make predictions\n",
    "y_pred = knn.predict(X_test)\n",
    "\n",
    "# Evaluate the model\n",
    "accuracy = accuracy_score(y_test, y_pred)\n",
    "percentage = accuracy * 100\n",
    "\n",
    "print(f\"Percentage accuracy of the KNN algorithm: {percentage:.2f} %\")"
   ]
  },
  {
   "cell_type": "code",
   "execution_count": null,
   "id": "743b6ac6-de7b-42f7-923a-2832a3d3381e",
   "metadata": {},
   "outputs": [],
   "source": []
  }
 ],
 "metadata": {
  "kernelspec": {
   "display_name": "Python 3 (ipykernel)",
   "language": "python",
   "name": "python3"
  },
  "language_info": {
   "codemirror_mode": {
    "name": "ipython",
    "version": 3
   },
   "file_extension": ".py",
   "mimetype": "text/x-python",
   "name": "python",
   "nbconvert_exporter": "python",
   "pygments_lexer": "ipython3",
   "version": "3.8.10"
  }
 },
 "nbformat": 4,
 "nbformat_minor": 5
}
