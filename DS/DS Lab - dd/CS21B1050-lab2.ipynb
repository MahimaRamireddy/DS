{
 "cells": [
  {
   "cell_type": "code",
   "execution_count": 1,
   "metadata": {},
   "outputs": [
    {
     "name": "stdout",
     "output_type": "stream",
     "text": [
      "Enter the age of Ram: 12\n",
      "Enter the age of Shyam: 2\n",
      "Enter the age of Ajay: 2\n",
      "Ajay and Shyam are the youngest\n"
     ]
    }
   ],
   "source": [
    "'''If the ages of Ram, Shyam and Ajay are input through the keyboard\n",
    "write a program to determine the youngest of the three.'''\n",
    "\n",
    "#Taking the input of each of their ages\n",
    "\n",
    "ram = int(input(\"Enter the age of Ram: \"))\n",
    "shyam = int(input(\"Enter the age of Shyam: \"))\n",
    "ajay  = int(input(\"Enter the age of Ajay: \"))\n",
    "\n",
    "#Iterative way\n",
    "\n",
    "#Ram is the youngest\n",
    "if ram < shyam:\n",
    "    if ram < ajay:\n",
    "        print(\"Ram is the youngest\")\n",
    "\n",
    "#Shyam is the youngest\n",
    "if shyam < ram:\n",
    "    if shyam < ajay:\n",
    "        print(\"Shyam is the youngest\")\n",
    "\n",
    "#Ajay is the youngest\n",
    "if ajay < ram:\n",
    "    if ajay < shyam:\n",
    "        print(\"Ajay is the youngest\")\n",
    "\n",
    "#All of them are of same age\n",
    "if ajay == ram == shyam:\n",
    "    print(\"All of them are of same age\")\n",
    "\n",
    "#Ajay and Shyam are the youngest\n",
    "if ajay == shyam and ajay < ram:\n",
    "    print(\"Ajay and Shyam are the youngest\")\n",
    "    \n",
    "#Ram and Shyam are the youngest  \n",
    "if ram == shyam and ram < ajay:\n",
    "    print(\"Ram and Shyam are the youngest\")\n",
    "    \n",
    "#Ajay and Ram are the youngest\n",
    "if ajay == ram and ajay < shyam:\n",
    "    print(\"Ajay and Ram are the youngest\")"
   ]
  },
  {
   "cell_type": "code",
   "execution_count": 2,
   "metadata": {},
   "outputs": [
    {
     "name": "stdout",
     "output_type": "stream",
     "text": [
      "Enter the percentage[Without the % symbol]: 59\n",
      "You have entered 59 %\n",
      "Grade : F\n"
     ]
    }
   ],
   "source": [
    "'''\n",
    "Write a program that converts percentages to one of the  following letter grades: \n",
    "A (90 – 100%), B (80 – 89%), C (70 – 79%), D (60 – 69%), F (0 – 59%). \n",
    "'''\n",
    "\n",
    "#Taking the input\n",
    "\n",
    "percent = int(input(\"Enter the percentage[Without the % symbol]: \"))\n",
    "print(\"You have entered\",percent,\"%\")\n",
    "\n",
    "#Grade: A\n",
    "if percent >= 90 and percent <= 100:\n",
    "    print(\"Grade: A\")\n",
    "\n",
    "#Grade: B\n",
    "elif percent >=80 and percent <= 89:\n",
    "    print(\"Grade: B\")\n",
    "#Grade: C\n",
    "elif percent >=70 and percent <=79:\n",
    "    print(\"Grade: C\")\n",
    "#Grade: D\n",
    "elif percent >=60 and percent <=69:\n",
    "    print(\"Grade: D\")\n",
    "#Grade: F\n",
    "else:\n",
    "          print(\"Grade : F\")"
   ]
  },
  {
   "cell_type": "code",
   "execution_count": 3,
   "metadata": {},
   "outputs": [
    {
     "name": "stdout",
     "output_type": "stream",
     "text": [
      "Enter the 5 digit number: 12321\n",
      "They are equal\n"
     ]
    }
   ],
   "source": [
    "'''\n",
    "A five-digit number is entered through the keyboard. Write a program to obtain the\n",
    "reversed number and to determine whether the original and reversed numbers are equal or not.\n",
    "'''\n",
    "\n",
    "#Getting the input\n",
    "ele = int(input(\"Enter the 5 digit number: \"))\n",
    "digits = [int(i) for i in str(ele)]\n",
    "\n",
    "#Getting the reverse of the number\n",
    "revdigits = digits[::-1]\n",
    "\n",
    "#Checking if lists are equal\n",
    "if digits == revdigits:\n",
    "    print(\"They are equal\")\n",
    "else:\n",
    "    print(\"They are not equal\")"
   ]
  },
  {
   "cell_type": "code",
   "execution_count": 4,
   "metadata": {},
   "outputs": [
    {
     "name": "stdout",
     "output_type": "stream",
     "text": [
      "Enter the hardness [float]: 45\n",
      "Enter the Carbon [float]: 0.5\n",
      "Enter the Tensile strength [float]: 6000\n",
      "Grade 8\n"
     ]
    }
   ],
   "source": [
    "'''\n",
    "A certain grade of steel is graded according to the following conditions:\n",
    "\t(i) Hardness must be greater than 50\n",
    "\t(ii) Carbon content must be less than 0.7\n",
    "\t(iii) Tensile strength must be greater than 5600\n",
    "\n",
    "\tThe grades are as follows:\n",
    "\tGrade is 10 if all three conditions are met\n",
    "\tGrade is 9 if conditions (i) and (ii) are met\n",
    "\tGrade is 8 if conditions (ii) and (iii) are met\n",
    "\tGrade is 7 if conditions (i) and (iii) are met\n",
    "\tGrade is 6 if only one condition is met\n",
    "\tGrade is 5 if none of the conditions are met\n",
    "'''\n",
    "#Taking the input\n",
    "hardness = float(input(\"Enter the hardness [float]: \"))\n",
    "carbon = float(input(\"Enter the Carbon [float]: \"))\n",
    "tensile = float(input(\"Enter the Tensile strength [float]: \"))\n",
    "\n",
    "#Hardness condition\n",
    "if hardness > 50:\n",
    "    ishard = True\n",
    "else:\n",
    "    ishard = False\n",
    "    \n",
    "#Carbon condition\n",
    "if carbon < 0.7:\n",
    "    iscarbon = True\n",
    "else:\n",
    "    iscarbon = False\n",
    "\n",
    "#Tensile condition    \n",
    "if tensile > 5600:\n",
    "    istensile  = True\n",
    "else:\n",
    "    istensile = False\n",
    "\n",
    "#Grade 10   \n",
    "if ishard and iscarbon and istensile:\n",
    "    print(\"Grade 10\")\n",
    "    \n",
    "#Grade 9    \n",
    "if ishard and iscarbon and not istensile:\n",
    "    print(\"Grade 9\")\n",
    "    \n",
    "#Grade 8    \n",
    "if not ishard and iscarbon and istensile:\n",
    "    print(\"Grade 8\")\n",
    "    \n",
    "#Grade 7\n",
    "if  ishard and not iscarbon and istensile:\n",
    "    print(\"Grade 7\")\n",
    "    \n",
    "#Grade 6\n",
    "if  ishard and not iscarbon and not istensile:\n",
    "    print(\"Grade 6\")\n",
    "\n",
    "if not ishard and iscarbon and not istensile:\n",
    "    print(\"Grade 6\")\n",
    "\n",
    "if not ishard and not iscarbon and istensile:\n",
    "    print(\"Grade 6\")\n",
    "\n",
    " #Grade 5 \n",
    "if not ishard and not iscarbon and not istensile:\n",
    "     print(\"Grade 5\")\n"
   ]
  },
  {
   "cell_type": "code",
   "execution_count": 5,
   "metadata": {},
   "outputs": [],
   "source": [
    "#Question 5 is same as the above question "
   ]
  },
  {
   "cell_type": "code",
   "execution_count": 11,
   "metadata": {},
   "outputs": [
    {
     "name": "stdout",
     "output_type": "stream",
     "text": [
      "Enter the perpendicular length[float]: 3\n",
      "Enter the base length[float]: 4\n",
      "Enter the hypotenuse length[float]: 5\n",
      "Right angled Triangle\n"
     ]
    }
   ],
   "source": [
    "'''\n",
    "If the three sides of a triangle are entered through the keyboard, write a program to check \twhether the triangle is isosceles, equilateral, or right angled triangle.\n",
    "'''\n",
    "\n",
    "#Taking the inputs\n",
    "perp = float(input(\"Enter the perpendicular length[float]: \"))\n",
    "base = float(input(\"Enter the base length[float]: \"))\n",
    "hyp = float(input(\"Enter the hypotenuse length[float]: \"))\n",
    "\n",
    "#Equilateral\n",
    "if perp == base == hyp:\n",
    "    equ = True\n",
    "    print(\"Equilateral Triangle\")\n",
    "\n",
    "#Isoceles     \n",
    "if perp == base or base == hyp or perp == hyp:\n",
    "    equ = False\n",
    "    print(\"Isoceles Triangle\")\n",
    "\n",
    "#Right angled\n",
    "h = pow(hyp,2)\n",
    "p = pow(perp,2)\n",
    "b = pow(base,2)\n",
    "\n",
    "if h == p + b:\n",
    "    right = True\n",
    "    print(\"Right angled Triangle\")\n",
    "    \n",
    "#Scalene\n",
    "if perp != base != hyp:\n",
    "    if not right:\n",
    "        print(\"Scalene Triangle\")"
   ]
  },
  {
   "cell_type": "code",
   "execution_count": 12,
   "metadata": {},
   "outputs": [
    {
     "name": "stdout",
     "output_type": "stream",
     "text": [
      "Enter the N value: 100\n",
      "Enter the C value: 10\n",
      "Enter the M value: 4\n",
      "The number of chocolates Bob gets are 13\n"
     ]
    }
   ],
   "source": [
    "'''\n",
    "Little Bob loves chocolate, and he goes to a store with Rs. N in his pocket. The price of each chocolate is Rs. C. The store offers a discount: for every M wrappers he gives to the store, he gets one chocolate for free. This offer is available only once. How many chocolates does Bob get to eat?\n",
    "'''\n",
    "\n",
    "#Taking input\n",
    "N = int(input(\"Enter the N value: \"))\n",
    "C = int(input(\"Enter the C value: \"))\n",
    "M = int(input(\"Enter the M value: \"))\n",
    "cho = N/C\n",
    "wrappers = cho\n",
    "while wrappers >=M:\n",
    "    free = wrappers // M \n",
    "    cho = cho + free\n",
    "    wrappers = free + wrappers % M\n",
    "\n",
    "\n",
    "print(\"The number of chocolates Bob gets are\", int(cho))\n"
   ]
  },
  {
   "cell_type": "code",
   "execution_count": 13,
   "metadata": {},
   "outputs": [
    {
     "name": "stdout",
     "output_type": "stream",
     "text": [
      "Approximate cost to be spent for setting up the lab:Rs. 1741500\n"
     ]
    }
   ],
   "source": [
    "'''\n",
    "An university is setting up a new lab at their premises. Design an algorithm and write Python code to determine the approximate cost to be spent for setting up the lab. Cost for setting the lab is sum of cost of computers, cost of furniture and labour cost. Use the following formulae for solving the problem:\n",
    "\n",
    "Cost of computer = cost of one computer * number of computers\n",
    "\n",
    "Cost of furniture = Number of tables * cost of one table + number of chairs * cost of one chair\n",
    "\n",
    "Labour cost = number of hours worked * wages per hour\n",
    "\n",
    "Note: The values to the variables should be directly given in the program.\n",
    "'''\n",
    "\n",
    "'''\n",
    "Algorithm:\n",
    "1) Use the above formulae and calculate each parameter\n",
    "2) Find the sum of the parameters \n",
    "3) Print the sum\n",
    "'''\n",
    "#Input Values\n",
    "cost_of_one_computer = 15000\n",
    "number_of_computers = 80\n",
    "\n",
    "Number_of_tables = 90\n",
    "cost_of_one_table = 5000\n",
    "number_of_chairs = 90\n",
    "cost_of_one_chair = 1000\n",
    "\n",
    "number_of_hours_worked = 10\n",
    "wages_per_hour = 150\n",
    "\n",
    "Cost_of_computer = cost_of_one_computer * number_of_computers\n",
    "Cost_of_furniture = Number_of_tables * cost_of_one_table  + number_of_chairs * cost_of_one_chair\n",
    "Labour_cost = number_of_hours_worked * wages_per_hour \n",
    "\n",
    "print(\"Approximate cost to be spent for setting up the lab:Rs.\",Cost_of_computer+Cost_of_furniture+Labour_cost)"
   ]
  },
  {
   "cell_type": "code",
   "execution_count": 14,
   "metadata": {},
   "outputs": [
    {
     "name": "stdout",
     "output_type": "stream",
     "text": [
      "Enter the year: 2024\n",
      "2024 is a leap year\n"
     ]
    }
   ],
   "source": [
    "'''\n",
    "A leap year is a calendar year containing an additional day added to keep the calendar\n",
    "year synchronized with the astronomical or seasonal year. In the Gregorian calendar,\n",
    "each leap year has 366 days instead of 365, by extending February to 29 days rather\n",
    "than the common 28. These extra days occur in years which are multiples of four (with\n",
    "the exception of centennial years not divisible by 400). Write a Python program, which\n",
    "asks for a year and calculates, if this year is a leap year or not.\n",
    "\n",
    "'''\n",
    "\n",
    "#Input\n",
    "year = int(input(\"Enter the year: \"))\n",
    "\n",
    "if (year % 4 == 0 and year % 100 != 0) or (year % 400 == 0):\n",
    "    print(year, \"is a leap year\")\n",
    "else:\n",
    "    print(year, \"is not a leap year\")"
   ]
  },
  {
   "cell_type": "code",
   "execution_count": null,
   "metadata": {},
   "outputs": [],
   "source": []
  }
 ],
 "metadata": {
  "kernelspec": {
   "display_name": "Python 3",
   "language": "python",
   "name": "python3"
  },
  "language_info": {
   "codemirror_mode": {
    "name": "ipython",
    "version": 3
   },
   "file_extension": ".py",
   "mimetype": "text/x-python",
   "name": "python",
   "nbconvert_exporter": "python",
   "pygments_lexer": "ipython3",
   "version": "3.7.3"
  }
 },
 "nbformat": 4,
 "nbformat_minor": 2
}
