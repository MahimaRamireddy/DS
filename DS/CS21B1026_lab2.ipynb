{
 "cells": [
  {
   "cell_type": "code",
   "execution_count": 7,
   "id": "22134793-66d1-4dd8-934f-794e3ab114ee",
   "metadata": {},
   "outputs": [
    {
     "name": "stdout",
     "output_type": "stream",
     "text": [
      "Enter the age of Ram -8\n",
      "Enter the age of Shyam 2\n",
      "Enter the age of Ajay 5\n"
     ]
    },
    {
     "name": "stdout",
     "output_type": "stream",
     "text": [
      "cannot find as the inputed values are wrong\n"
     ]
    }
   ],
   "source": [
    "#to find the youngest age\n",
    "# 1 question\n",
    "ram=int(input(\"Enter the age of Ram\"))\n",
    "shyam=int(input(\"Enter the age of Shyam\"))\n",
    "ajay=int(input(\"Enter the age of Ajay\"))\n",
    "\n",
    "if ram>=0 and shyam>=0 and ajay>=0:\n",
    "    youngest=min(ram,shyam,ajay)\n",
    "    print(\"The youngest of the three is/are: \")\n",
    "    if youngest==ram:\n",
    "        print(\"Ram\")\n",
    "    if youngest==shyam:\n",
    "        print(\"Shyam\")\n",
    "    if youngest==ajay:\n",
    "        print(\"Ajay\") \n",
    "else:\n",
    "    print(\"cannot find\")\n",
    "\n",
    "   \n"
   ]
  },
  {
   "cell_type": "code",
   "execution_count": 31,
   "id": "9e5f25dc-9240-4011-a7cb-eb1e23266963",
   "metadata": {},
   "outputs": [
    {
     "name": "stdout",
     "output_type": "stream",
     "text": [
      "Enter the percentage 85.22\n"
     ]
    },
    {
     "name": "stdout",
     "output_type": "stream",
     "text": [
      "B Grade\n"
     ]
    }
   ],
   "source": [
    "# to print the percentage\n",
    "# 2 question\n",
    "percentage=float(input(\"Enter the percentage\"))\n",
    "if percentage>100 or percentage<0:\n",
    "    print(\"Invalid percentage\")\n",
    "if percentage>=90 and percentage<=100:\n",
    "    print(\"A Grade\")\n",
    "if percentage>=80 and percentage<=89:\n",
    "    print(\"B Grade\") \n",
    "if percentage>=70 and percentage<=79:\n",
    "    print(\"C Grade\")\n",
    "if percentage>=60 and percentage<=69:\n",
    "    print(\"D Grade\")\n",
    "if percentage>=0 and percentage<=59:\n",
    "    print(\"F Grade\")"
   ]
  },
  {
   "cell_type": "code",
   "execution_count": 29,
   "id": "d9244709-c4d6-4b86-b463-b3ff3538f4fd",
   "metadata": {},
   "outputs": [
    {
     "name": "stdout",
     "output_type": "stream",
     "text": [
      "Enter a 5 digit number: 12345\n"
     ]
    },
    {
     "name": "stdout",
     "output_type": "stream",
     "text": [
      "The reverse number is : 54321\n",
      "The original and reversed numbers are not same.\n"
     ]
    }
   ],
   "source": [
    "#to reverrse a 5 digit number\n",
    "# 3 question\n",
    "number=int(input(\"Enter a 5 digit number:\"))\n",
    "num=number\n",
    "rev_num=0\n",
    "if number<10000 or number>99999:\n",
    "    print(\"Invalid 5 digit number\")\n",
    "else:\n",
    "    while(number>0):\n",
    "        rem=number%10\n",
    "        rev_num=(rev_num*10)+rem\n",
    "        number=number//10\n",
    "    print(\"The reverse number is : {}\".format(rev_num)) \n",
    "    if num==rev_num:\n",
    "        print(\"The original and reversed numbers are same.\")\n",
    "    else:\n",
    "        print(\"The original and reversed numbers are not same.\")\n",
    "    "
   ]
  },
  {
   "cell_type": "code",
   "execution_count": 61,
   "id": "94b1e7d6-5529-4198-b5a3-7ba4f880ae0c",
   "metadata": {},
   "outputs": [
    {
     "name": "stdout",
     "output_type": "stream",
     "text": [
      "Enter hardness -5\n",
      "Enter carbon content -6\n",
      "Enter tensile strength -6\n"
     ]
    },
    {
     "name": "stdout",
     "output_type": "stream",
     "text": [
      "Invalid input\n"
     ]
    }
   ],
   "source": [
    "#5 question\n",
    "hardness=float(input(\"Enter hardness\"))\n",
    "carb_cont=float(input(\"Enter carbon content\"))\n",
    "tensile=float(input(\"Enter tensile strength\"))\n",
    "if hardness>=0 and tensile>=0 and carb_cont>=0:\n",
    "    if hardness>50 and carb_cont<0.7 and tensile>5600:\n",
    "        print(\"Grade 10\")\n",
    "    elif hardness>50 and carb_cont<0.7:\n",
    "        print(\"Grade 9\")\n",
    "    elif carb_cont<0.7 and tensile>5600:\n",
    "        print(\"Grade 8\")\n",
    "    elif hardness>50  and tensile>5600:\n",
    "        print(\"Grade 7\")\n",
    "    elif hardness>50 or carb_cont<0.7 or tensile>5600:\n",
    "        print(\"Grade 6\")\n",
    "    else:\n",
    "        print(\"Grade 5\")\n",
    "else:\n",
    "    print(\"Invalid input\")"
   ]
  },
  {
   "cell_type": "code",
   "execution_count": 44,
   "id": "ec871b9f-1f97-4eaf-b3ff-83c91caac7ef",
   "metadata": {},
   "outputs": [
    {
     "name": "stdout",
     "output_type": "stream",
     "text": [
      "Enter the value of first side : 1\n",
      "Enter the value of second side : 2\n",
      "Enter the value of third side : 3\n"
     ]
    },
    {
     "name": "stdout",
     "output_type": "stream",
     "text": [
      "Given length inputs of the triangle are invalid.\n"
     ]
    }
   ],
   "source": [
    "#6 question\n",
    "a=float(input(\"Enter the value of first side :\"))\n",
    "b=float(input(\"Enter the value of second side :\"))\n",
    "c=float(input(\"Enter the value of third side :\"))\n",
    "\n",
    "if (a<b+c and b<a+c and c<a+b) and (a>=0 and b>=0 and c>=0) and (a>abs(b-c) and b>abs(a-c) and c>abs(a-b):\n",
    "    if a==b==c:\n",
    "        print(\"Equilateral Triangle\")\n",
    "    elif a==b or b==c or c==a:\n",
    "        print(\"Isosceles Triangle\")\n",
    "    elif a**2==(b**2)+(c**2) or b**2==(a**2)+(c**2) or c**2==(b**2)+(a**2):\n",
    "        print(\"Right Angeled triangle\")\n",
    "    elif (a**2==(b**2)+(c**2) or b**2==(a**2)+(c**2) or c**2==(b**2)+(a**2) and (a==b or b==c or c==a)):\n",
    "        print(\"Right Angeled and Isoceles triangle\")\n",
    "    else:\n",
    "        print(\"Scalene triangle\")\n",
    "else:\n",
    "    print(\"Given length inputs of the triangle are invalid.\")\n",
    "        \n",
    "    "
   ]
  },
  {
   "cell_type": "code",
   "execution_count": 62,
   "id": "19b8f11f-5379-496c-ba68-ea305fa0a7ec",
   "metadata": {},
   "outputs": [
    {
     "name": "stdout",
     "output_type": "stream",
     "text": [
      "Enter the amount Bob have : 10\n",
      "Enter the price of one chocolate : 100\n",
      "Enter the number of wrappers for which we can get one chocolate free :  3\n"
     ]
    },
    {
     "name": "stdout",
     "output_type": "stream",
     "text": [
      "The total number of chocolates Bob can eat are 0.0\n"
     ]
    }
   ],
   "source": [
    "# 7 question\n",
    "n=float(input(\"Enter the amount Bob have :\"))\n",
    "c=float(input(\"Enter the price of one chocolate :\"))\n",
    "m=int(input(\"Enter the number of wrappers for which we can get one chocolate free : \"))\n",
    "if n>=0 and c>=0 and m>=0:\n",
    "    total=0\n",
    "    total=n//c\n",
    "    extra=0\n",
    "    extra=total//m\n",
    "    tot=0\n",
    "    tot=total+extra\n",
    "    print(\"The total number of chocolates Bob can eat are\",tot)\n",
    "else:\n",
    "    print(\"Invalid Input\")"
   ]
  },
  {
   "cell_type": "code",
   "execution_count": 50,
   "id": "7106dc37-e2c6-4a6e-81ad-d55564affbd4",
   "metadata": {},
   "outputs": [
    {
     "name": "stdout",
     "output_type": "stream",
     "text": [
      "The total amount needed is RS 2510350\n"
     ]
    }
   ],
   "source": [
    "# 8 question\n",
    "cost_1_comp=50000\n",
    "no_comp=50\n",
    "cost_of_comp=cost_1_comp*no_comp\n",
    "\n",
    "no_tables=50\n",
    "cost_1_table=100\n",
    "no_chairs=50\n",
    "cost_1_chair=75\n",
    "cost_of_furni=(no_tables*cost_1_table)+(no_chairs*cost_1_chair)\n",
    "\n",
    "no_of_hr=8\n",
    "wage=200\n",
    "lab_cost=no_of_hr*wage\n",
    "\n",
    "total_cost=0\n",
    "total_cost=cost_of_comp+cost_of_furni+lab_cost\n",
    "\n",
    "print(\"The total amount needed is RS\",total_cost)"
   ]
  },
  {
   "cell_type": "code",
   "execution_count": 59,
   "id": "84709c41-a742-4b35-9784-d1d01e59ddc6",
   "metadata": {},
   "outputs": [
    {
     "name": "stdout",
     "output_type": "stream",
     "text": [
      "Enter the year : 0\n"
     ]
    },
    {
     "name": "stdout",
     "output_type": "stream",
     "text": [
      "Given year is a leap year\n"
     ]
    }
   ],
   "source": [
    "year=int(input(\"Enter the year :\"))\n",
    "if year>=0:\n",
    "    if (year % 400 == 0):\n",
    "        print(\"Given year is a leap year\")\n",
    "    elif (year % 100 == 0):\n",
    "        print(\"Given year is not a leap year\")\n",
    "    elif (year % 4 == 0):\n",
    "        print(\"Given year is a leap year\")\n",
    "    else:\n",
    "        print(\"Given year is not a leap year\")\n",
    "else:\n",
    "    print(\"Invalid year\")\n",
    "    "
   ]
  },
  {
   "cell_type": "code",
   "execution_count": null,
   "id": "c76a7cf0-6c2c-4cbd-a3b1-f4b92379911d",
   "metadata": {},
   "outputs": [],
   "source": []
  }
 ],
 "metadata": {
  "kernelspec": {
   "display_name": "Python 3 (ipykernel)",
   "language": "python",
   "name": "python3"
  },
  "language_info": {
   "codemirror_mode": {
    "name": "ipython",
    "version": 3
   },
   "file_extension": ".py",
   "mimetype": "text/x-python",
   "name": "python",
   "nbconvert_exporter": "python",
   "pygments_lexer": "ipython3",
   "version": "3.8.10"
  }
 },
 "nbformat": 4,
 "nbformat_minor": 5
}
