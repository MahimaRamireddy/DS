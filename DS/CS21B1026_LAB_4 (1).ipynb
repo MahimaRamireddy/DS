{
 "cells": [
  {
   "cell_type": "code",
   "execution_count": 15,
   "id": "2f48642e-5e7d-40f9-97b0-4b237bbac176",
   "metadata": {},
   "outputs": [
    {
     "name": "stdout",
     "output_type": "stream",
     "text": [
      "1.Push \n",
      " 2.Pop \n",
      " 3.Peek\n",
      " 4.Print \n",
      " 5.Exit \n",
      "\n"
     ]
    },
    {
     "name": "stdin",
     "output_type": "stream",
     "text": [
      "Choose from the below options : 1\n",
      "Enter the element you want to add : 4\n"
     ]
    },
    {
     "name": "stdout",
     "output_type": "stream",
     "text": [
      "Element is added.\n",
      "1.Push \n",
      " 2.Pop \n",
      " 3.Peek\n",
      " 4.Print \n",
      " 5.Exit \n",
      "\n"
     ]
    },
    {
     "name": "stdin",
     "output_type": "stream",
     "text": [
      "Choose from the below options : 1\n",
      "Enter the element you want to add : 5\n"
     ]
    },
    {
     "name": "stdout",
     "output_type": "stream",
     "text": [
      "Element is added.\n",
      "1.Push \n",
      " 2.Pop \n",
      " 3.Peek\n",
      " 4.Print \n",
      " 5.Exit \n",
      "\n"
     ]
    },
    {
     "name": "stdin",
     "output_type": "stream",
     "text": [
      "Choose from the below options : 4\n"
     ]
    },
    {
     "name": "stdout",
     "output_type": "stream",
     "text": [
      "The elements of the stack are : \n",
      "4\n",
      "5\n",
      "1.Push \n",
      " 2.Pop \n",
      " 3.Peek\n",
      " 4.Print \n",
      " 5.Exit \n",
      "\n"
     ]
    },
    {
     "name": "stdin",
     "output_type": "stream",
     "text": [
      "Choose from the below options : 3\n"
     ]
    },
    {
     "name": "stdout",
     "output_type": "stream",
     "text": [
      "The top most element of the stack is :  5\n",
      "1.Push \n",
      " 2.Pop \n",
      " 3.Peek\n",
      " 4.Print \n",
      " 5.Exit \n",
      "\n"
     ]
    },
    {
     "name": "stdin",
     "output_type": "stream",
     "text": [
      "Choose from the below options : 2\n"
     ]
    },
    {
     "name": "stdout",
     "output_type": "stream",
     "text": [
      "The deleted value is :  5\n",
      "1.Push \n",
      " 2.Pop \n",
      " 3.Peek\n",
      " 4.Print \n",
      " 5.Exit \n",
      "\n"
     ]
    },
    {
     "name": "stdin",
     "output_type": "stream",
     "text": [
      "Choose from the below options : 5\n"
     ]
    }
   ],
   "source": [
    "#q1\n",
    "\n",
    "class Stack:\n",
    "    #creation of stack\n",
    "    def __init__(stack):\n",
    "        stack.items=[]\n",
    "    \n",
    "    #checking whether the stack is empty or not \n",
    "    def check_empty(stack):\n",
    "        return stack.items==[]\n",
    "\n",
    "    \n",
    "    #function to push into stack\n",
    "    def add(stack,data):\n",
    "        stack.items.append(data)\n",
    "\n",
    "    #function to pop from stack\n",
    "    def delete_data(stack):\n",
    "        return stack.items.pop()\n",
    "\n",
    "    #function to print the elements of the stack\n",
    "    def display(stack):\n",
    "        for i in range(len(stack.items)):\n",
    "            print(stack.items[i])\n",
    "    \n",
    "    #function to print the top most element of the stack\n",
    "    def peek(stack):\n",
    "        return stack.items[-1]\n",
    "\n",
    "\n",
    "s=Stack()\n",
    "while True:\n",
    "    print(\"1.Push \\n 2.Pop \\n 3.Peek\\n 4.Print \\n 5.Exit \\n\")\n",
    "    ch=int(input(\"Choose from the below options :\"))\n",
    "    if ch==1:\n",
    "        a=int(input(\"Enter the element you want to add :\"))\n",
    "        s.add(a)\n",
    "        print(\"Element is added.\")\n",
    "\n",
    "    elif ch==2:\n",
    "        if s.check_empty():\n",
    "            print(\"The stack is empty.\")\n",
    "        else:\n",
    "            print(\"The deleted value is : \",s.delete_data())\n",
    "\n",
    "    elif ch==3:\n",
    "        if s.check_empty():\n",
    "            print(\"The stack is empty.\")\n",
    "        else:\n",
    "            print(\"The top most element of the stack is : \",s.peek())\n",
    "\n",
    "    elif ch==4:\n",
    "        if s.check_empty():\n",
    "            print(\"The stack is empty.\")\n",
    "        else:\n",
    "            print(\"The elements of the stack are : \")\n",
    "            s.display()\n",
    "    elif ch==5:\n",
    "        break\n",
    "        \n",
    "    \n",
    "        \n",
    "        "
   ]
  },
  {
   "cell_type": "code",
   "execution_count": 17,
   "id": "21d41d0c-b353-4b3f-8dd2-9d9ed66ce181",
   "metadata": {},
   "outputs": [
    {
     "name": "stdout",
     "output_type": "stream",
     "text": [
      "1.Enqueue \n",
      " 2.Dequeue \n",
      " 3.Peek\n",
      " 4.Print \n",
      " 5.Exit \n",
      "\n"
     ]
    },
    {
     "name": "stdin",
     "output_type": "stream",
     "text": [
      "Choose from the below options : 1\n",
      "Enter the element you want to add : 5\n"
     ]
    },
    {
     "name": "stdout",
     "output_type": "stream",
     "text": [
      "Element is added.\n",
      "1.Enqueue \n",
      " 2.Dequeue \n",
      " 3.Peek\n",
      " 4.Print \n",
      " 5.Exit \n",
      "\n"
     ]
    },
    {
     "name": "stdin",
     "output_type": "stream",
     "text": [
      "Choose from the below options : 1\n",
      "Enter the element you want to add : 8\n"
     ]
    },
    {
     "name": "stdout",
     "output_type": "stream",
     "text": [
      "Element is added.\n",
      "1.Enqueue \n",
      " 2.Dequeue \n",
      " 3.Peek\n",
      " 4.Print \n",
      " 5.Exit \n",
      "\n"
     ]
    },
    {
     "name": "stdin",
     "output_type": "stream",
     "text": [
      "Choose from the below options : 3\n"
     ]
    },
    {
     "name": "stdout",
     "output_type": "stream",
     "text": [
      "The top most element of the stack is :  5\n",
      "1.Enqueue \n",
      " 2.Dequeue \n",
      " 3.Peek\n",
      " 4.Print \n",
      " 5.Exit \n",
      "\n"
     ]
    },
    {
     "name": "stdin",
     "output_type": "stream",
     "text": [
      "Choose from the below options : 4\n"
     ]
    },
    {
     "name": "stdout",
     "output_type": "stream",
     "text": [
      "The elements of the stack are : \n",
      "5\n",
      "8\n",
      "1.Enqueue \n",
      " 2.Dequeue \n",
      " 3.Peek\n",
      " 4.Print \n",
      " 5.Exit \n",
      "\n"
     ]
    },
    {
     "name": "stdin",
     "output_type": "stream",
     "text": [
      "Choose from the below options : 2\n"
     ]
    },
    {
     "name": "stdout",
     "output_type": "stream",
     "text": [
      "The deleted value is :  5\n",
      "1.Enqueue \n",
      " 2.Dequeue \n",
      " 3.Peek\n",
      " 4.Print \n",
      " 5.Exit \n",
      "\n"
     ]
    },
    {
     "name": "stdin",
     "output_type": "stream",
     "text": [
      "Choose from the below options : 2\n"
     ]
    },
    {
     "name": "stdout",
     "output_type": "stream",
     "text": [
      "The deleted value is :  8\n",
      "1.Enqueue \n",
      " 2.Dequeue \n",
      " 3.Peek\n",
      " 4.Print \n",
      " 5.Exit \n",
      "\n"
     ]
    },
    {
     "name": "stdin",
     "output_type": "stream",
     "text": [
      "Choose from the below options : 2\n"
     ]
    },
    {
     "name": "stdout",
     "output_type": "stream",
     "text": [
      "The stack is empty.\n",
      "1.Enqueue \n",
      " 2.Dequeue \n",
      " 3.Peek\n",
      " 4.Print \n",
      " 5.Exit \n",
      "\n"
     ]
    },
    {
     "name": "stdin",
     "output_type": "stream",
     "text": [
      "Choose from the below options : 3\n"
     ]
    },
    {
     "name": "stdout",
     "output_type": "stream",
     "text": [
      "The stack is empty.\n",
      "1.Enqueue \n",
      " 2.Dequeue \n",
      " 3.Peek\n",
      " 4.Print \n",
      " 5.Exit \n",
      "\n"
     ]
    },
    {
     "name": "stdin",
     "output_type": "stream",
     "text": [
      "Choose from the below options : 4\n"
     ]
    },
    {
     "name": "stdout",
     "output_type": "stream",
     "text": [
      "The stack is empty.\n",
      "1.Enqueue \n",
      " 2.Dequeue \n",
      " 3.Peek\n",
      " 4.Print \n",
      " 5.Exit \n",
      "\n"
     ]
    },
    {
     "name": "stdin",
     "output_type": "stream",
     "text": [
      "Choose from the below options : 5\n"
     ]
    }
   ],
   "source": [
    "#q2\n",
    "class Queue:\n",
    "\n",
    "    #creation of queue\n",
    "    def __init__(queue):\n",
    "        queue.items=[]\n",
    "    \n",
    "    #function to check whether the queue is empty or not\n",
    "    def check_empty(queue):\n",
    "        return queue.items==[]\n",
    "\n",
    "    #function to enqueue into the queue\n",
    "    def enqueue(queue,data):\n",
    "        queue.items.append(data)\n",
    "\n",
    "    #function to dequeue into the queue\n",
    "    def dequeue(queue):\n",
    "        return queue.items.pop(0)\n",
    "\n",
    "    #function to print the elements of the queue\n",
    "    def display(queue):\n",
    "        for i in range(len(queue.items)):\n",
    "            print(queue.items[i])\n",
    "    \n",
    "    #function to print the front most element of the queue\n",
    "    def peek(queue):\n",
    "        return queue.items[0]\n",
    "\n",
    "\n",
    "s=Queue()\n",
    "while True:\n",
    "    print(\"1.Enqueue \\n 2.Dequeue \\n 3.Peek\\n 4.Print \\n 5.Exit \\n\")\n",
    "    ch=int(input(\"Choose from the below options :\"))\n",
    "    if ch==1:\n",
    "        a=int(input(\"Enter the element you want to add :\"))\n",
    "        s.enqueue(a)\n",
    "        print(\"Element is added.\")\n",
    "\n",
    "    elif ch==2:\n",
    "        if s.check_empty():\n",
    "            print(\"The Queue is empty.\")\n",
    "        else:\n",
    "            print(\"The deleted value is : \",s.dequeue())\n",
    "\n",
    "    elif ch==3:\n",
    "        if s.check_empty():\n",
    "            print(\"The Queue is empty.\")\n",
    "        else:\n",
    "            print(\"The top most element of the stack is : \",s.peek())\n",
    "\n",
    "    elif ch==4:\n",
    "        if s.check_empty():\n",
    "            print(\"The Queue is empty.\")\n",
    "        else:\n",
    "            print(\"The elements of the stack are : \")\n",
    "            s.display()\n",
    "    elif ch==5:\n",
    "        break\n",
    "        \n"
   ]
  },
  {
   "cell_type": "code",
   "execution_count": 19,
   "id": "0fad19cc-eb93-45e1-b35c-9b520f1bea14",
   "metadata": {},
   "outputs": [
    {
     "name": "stdin",
     "output_type": "stream",
     "text": [
      "Enter the string you want to reverse :  Apples are red in color\n"
     ]
    },
    {
     "name": "stdout",
     "output_type": "stream",
     "text": [
      "The string is :  Apples are red in color\n",
      "The reversed string is :  roloc ni der era selppA\n"
     ]
    }
   ],
   "source": [
    "#q4\n",
    "\n",
    "def reverse(str):\n",
    "    str=str[::-1]\n",
    "    return str\n",
    "\n",
    "\n",
    "s=input(\"Enter the string you want to reverse : \")\n",
    "print(\"The string is : \",s)\n",
    "print(\"The reversed string is : \",reverse(s))"
   ]
  },
  {
   "cell_type": "code",
   "execution_count": 44,
   "id": "af85620b-a043-47bd-a48d-d4c778e397fe",
   "metadata": {},
   "outputs": [
    {
     "name": "stdout",
     "output_type": "stream",
     "text": [
      "Enter the paragraph :\n",
      " winston is one of the most laid-back people i know he is tall and slim with black hair and he always wears a t-shirt and black jeans his jeans have holes in them and his baseball boots are scruffy too he usually sits at the back of the class and he often seems to be asleep however when the exam results are given out he always gets an \"A\" i don't think hes as lazy as he appears to be\n",
      "String should contain at least 3 sentences.The number of sentences present are : 1\n",
      "Enter the paragraph again:\n",
      " \n",
      "Enter the paragraph :\n",
      " winston is one of the most laid-back people i know he is tall and slim with black hair and he always wears a t-shirt and black jeans his jeans have holes in them and his baseball boots are scruffy too he usually sits at the back of the class and he often seems to be asleep however when the exam results are given out he always gets an \"A\" i don't th        .ink hes                  . as lazy as he .         appears to be.\n",
      "The number of sentences are :  4\n",
      "The number of words are :  83\n",
      "The final paragraph after all the changes is :  Wjn$tpn j$ pnf pf thf mp$t lbjd-bbck pfpplf j knpw hf j$ tbll bnd $ljm wjth blbck hbjr bnd hf blwby$ wfbr$ b t-$hjrt bnd blbck jfbn$ hj$ jfbn$ hbvf hplf$ jn thfm bnd hj$ bb$fbbll bppt$ brf $crvffy tpp hf v$vblly $jt$ bt thf bbck pf thf clb$$ bnd hf pftfn $ffm$ tp bf b$lffp hpwfvfr whfn thf fxbm rf$vlt$ brf gjvfn pvt hf blwby$ gft$ bn \"b\" j dpn't th        .Jnk hf$                  .B$ lbzy b$ hf .Bppfbr$ tp bf.\n"
     ]
    }
   ],
   "source": [
    "#q5\n",
    "import re\n",
    "\n",
    "def count_sentences(text):\n",
    "    sentences = re.split(r'[.!?]', text)\n",
    "    sentences = [s.strip() for s in sentences if s.strip()]\n",
    "    return sentences\n",
    "\n",
    "def count_words(input_string):\n",
    "    words = input_string.split()  \n",
    "    return len(words)\n",
    "\n",
    "def capitalize_sentences(input_string):\n",
    "    sentences = re.split(r'([.!?])\\s*', input_string)\n",
    "    capitalized_sentences = [s.capitalize() for s in sentences if s]\n",
    "    return ''.join(capitalized_sentences)\n",
    "\n",
    "def replace(input_string):\n",
    "    vowels = \"aeiouAEIOU\"\n",
    "    replacement = {\n",
    "        'a': 'b', 'A': 'B',\n",
    "        'e': 'f', 'E': 'F',\n",
    "        'i': 'j', 'I': 'J',\n",
    "        'o': 'p', 'O': 'P',\n",
    "        'u': 'v', 'U': 'V'\n",
    "    }\n",
    "    \n",
    "    replaced_string = []\n",
    "    for char in input_string:\n",
    "        if char in replacement:\n",
    "            replaced_string.append(replacement[char])\n",
    "        else:\n",
    "            replaced_string.append(char)\n",
    "    \n",
    "    return ''.join(replaced_string)\n",
    "\n",
    "def replace1(input_string):\n",
    "    letters = \"sS\"\n",
    "    replacement = {'s': '$', 'S': '$'}\n",
    "    \n",
    "    replaced_string = []\n",
    "    for char in input_string:\n",
    "        if char in replacement:\n",
    "            replaced_string.append(replacement[char])\n",
    "        else:\n",
    "            replaced_string.append(char)\n",
    "    \n",
    "    return ''.join(replaced_string)\n",
    "            \n",
    "error=False\n",
    "n=0\n",
    "m=0\n",
    "while True:\n",
    "        s= input(\"Enter the paragraph :\\n \")\n",
    "        if len(s) > 50:\n",
    "            sentences = count_sentences(s)\n",
    "            if len(sentences )>= 3:\n",
    "                error=True\n",
    "                break\n",
    "            else:\n",
    "                print(\"String should contain at least 3 sentences.The number of sentences present are :\",len(sentences))\n",
    "                print(\"Enter the paragraph again:\\n \")\n",
    "        else:\n",
    "            print(\"String length should be greater than 50 characters.The length is :\",len(s))\n",
    "            print(\"Enter the paragraph again:\\n \")\n",
    "            \n",
    "            \n",
    "if error:\n",
    "    print(\"The number of sentences are : \",len(sentences))\n",
    "    words=count_words(s)\n",
    "    print(\"The number of words are : \",words)\n",
    "    capitalized_result = capitalize_sentences(s)\n",
    "    replaced=replace(capitalized_result)\n",
    "    replaced1=replace1(replaced)\n",
    "    print(\"The final paragraph after all the changes is : \",replaced1)"
   ]
  },
  {
   "cell_type": "code",
   "execution_count": 47,
   "id": "abaab535-2986-46c0-9caa-32016ff06c1a",
   "metadata": {},
   "outputs": [
    {
     "name": "stdout",
     "output_type": "stream",
     "text": [
      "enter a string with paranthesis : (((()))))()()()(\n",
      "length :  8\n",
      "(((())))\n"
     ]
    }
   ],
   "source": [
    "#q3\n",
    "def findLongestValidSubstring(string):\n",
    "    n = len(string)\n",
    "    stk = []\n",
    "    stk.append(-1)\n",
    "\n",
    "    longest_start = 0\n",
    "    longest_length = 0\n",
    " \n",
    "    for i in range(n):\n",
    "        if string[i] == '(':\n",
    "            stk.append(i)\n",
    "        elif string[i] == ')':\n",
    "            if len(stk) != 0:\n",
    "                stk.pop()\n",
    "                if len(stk) != 0:\n",
    "                    current_length = i - stk[-1]\n",
    "                    if current_length > longest_length:\n",
    "                        longest_length = current_length\n",
    "                        longest_start = stk[-1] + 1\n",
    "                else:\n",
    "                    stk.append(i)\n",
    "            else:\n",
    "                stk.append(i)\n",
    "        else:\n",
    "            print(\"not a valid string\")\n",
    "            longest_start = i + 1\n",
    "            longest_length = 0\n",
    "            break\n",
    "           \n",
    "    if longest_length==0 :\n",
    "        print(\"invalid string. 0 \")\n",
    "    else :\n",
    "        print(\"length : \",longest_length)\n",
    "        return string[longest_start:longest_start + longest_length]\n",
    "\n",
    "string = input(\"enter a string with paranthesis : \")\n",
    "print(findLongestValidSubstring(string))"
   ]
  },
  {
   "cell_type": "code",
   "execution_count": null,
   "id": "dd83aa42-b746-4075-bbcb-a47a845cb3bf",
   "metadata": {},
   "outputs": [],
   "source": [
    "\n"
   ]
  },
  {
   "cell_type": "code",
   "execution_count": null,
   "id": "f838c56a-9ce2-4eb4-8674-46e1859a4667",
   "metadata": {},
   "outputs": [],
   "source": []
  },
  {
   "cell_type": "code",
   "execution_count": null,
   "id": "bb45adca-a331-4e0e-aa38-31818c79d230",
   "metadata": {},
   "outputs": [],
   "source": []
  }
 ],
 "metadata": {
  "kernelspec": {
   "display_name": "Python 3 (ipykernel)",
   "language": "python",
   "name": "python3"
  },
  "language_info": {
   "codemirror_mode": {
    "name": "ipython",
    "version": 3
   },
   "file_extension": ".py",
   "mimetype": "text/x-python",
   "name": "python",
   "nbconvert_exporter": "python",
   "pygments_lexer": "ipython3",
   "version": "3.10.9"
  }
 },
 "nbformat": 4,
 "nbformat_minor": 5
}
