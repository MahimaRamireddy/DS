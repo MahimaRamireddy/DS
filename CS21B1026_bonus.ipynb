{
 "cells": [
  {
   "cell_type": "code",
   "execution_count": 7,
   "id": "32ec0edd",
   "metadata": {},
   "outputs": [
    {
     "name": "stdout",
     "output_type": "stream",
     "text": [
      "Enter the PAN number:mmmmm8888n\n",
      "['m', 'm', 'm', 'm', 'm', '8', '8', '8', '8', 'n']\n",
      "valid pan no.\n"
     ]
    }
   ],
   "source": [
    "#q2\n",
    "no=[]\n",
    "a=input(\"Enter the PAN number:\")\n",
    "while len(a)!=10:\n",
    "    a=input(\"The length of the pan number should be 10.Please enter a valid pan number.\")\n",
    "no = list(a.strip(\" \"))\n",
    "print(no)\n",
    "\n",
    "x1=no[0].isalpha()\n",
    "x2=no[1].isalpha()\n",
    "x3=no[2].isalpha()\n",
    "x4=no[3].isalpha()\n",
    "x5=no[4].isalpha()\n",
    "x6=no[5].isdigit()\n",
    "x7=no[6].isdigit()\n",
    "x8=no[7].isdigit()\n",
    "x9=no[8].isdigit()\n",
    "x10=no[9].isalpha()\n",
    "\n",
    "if x1==True and x2==True and x3==True and x4==True and x5==True and x6==True and x7==True and x8==True and x9==True and x10==True:\n",
    "    print(\"valid pan no.\")\n",
    "else:\n",
    "    print(\"Invalid pan no.\")\n",
    "\n",
    "    \n",
    "\n"
   ]
  },
  {
   "cell_type": "code",
   "execution_count": 8,
   "id": "7e0312af",
   "metadata": {},
   "outputs": [
    {
     "name": "stdout",
     "output_type": "stream",
     "text": [
      "ENTER the word: python\n",
      "sbwkrq\n"
     ]
    }
   ],
   "source": [
    "#q1\n",
    "word=input(\"ENTER the word: \")\n",
    "l=[]\n",
    "for i in word:\n",
    "    x=int(ord(i))\n",
    "    if x==88:\n",
    "        x=65\n",
    "    elif x==89:\n",
    "        x=66\n",
    "    elif x==90:\n",
    "        x=67\n",
    "    elif x==120:\n",
    "        x=97\n",
    "    elif x==121:\n",
    "        x=98\n",
    "    elif x==122:\n",
    "        x=99\n",
    "    else:\n",
    "        x=x+3\n",
    "    char = chr(x)\n",
    "    l.append(char)\n",
    "l=\"\".join(l)\n",
    "print(l)"
   ]
  },
  {
   "cell_type": "code",
   "execution_count": null,
   "id": "2d5a2058",
   "metadata": {},
   "outputs": [],
   "source": []
  }
 ],
 "metadata": {
  "kernelspec": {
   "display_name": "Python 3 (ipykernel)",
   "language": "python",
   "name": "python3"
  },
  "language_info": {
   "codemirror_mode": {
    "name": "ipython",
    "version": 3
   },
   "file_extension": ".py",
   "mimetype": "text/x-python",
   "name": "python",
   "nbconvert_exporter": "python",
   "pygments_lexer": "ipython3",
   "version": "3.8.10"
  }
 },
 "nbformat": 4,
 "nbformat_minor": 5
}
